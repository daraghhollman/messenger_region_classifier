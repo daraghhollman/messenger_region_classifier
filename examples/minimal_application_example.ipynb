{
 "cells": [
  {
   "cell_type": "markdown",
   "id": "ffbb9b5f",
   "metadata": {},
   "source": [
    "Let's start by downloading a small portion of data. NASA's PDS-PPI node for MESSENGER stores full cadence data in daily files, so we will just download one of these."
   ]
  },
  {
   "cell_type": "code",
   "execution_count": 10,
   "id": "207624cc",
   "metadata": {},
   "outputs": [],
   "source": [
    "import os\n",
    "import pathlib\n",
    "import requests\n",
    "import sys\n",
    "\n",
    "import hermpy.utils"
   ]
  },
  {
   "cell_type": "code",
   "execution_count": 4,
   "id": "7ec1c68c",
   "metadata": {},
   "outputs": [
    {
     "name": "stdout",
     "output_type": "stream",
     "text": [
      "Data saved to: ../data/tmp/MAGMSOSCI11244_V08.TAB\n"
     ]
    }
   ],
   "source": [
    "# 1st September 2011\n",
    "url = \"https://pds-ppi.igpp.ucla.edu/data/mess-mag-calibrated/data/mso/2011/244_273_SEP/MAGMSOSCI11244_V08.TAB\"\n",
    "\n",
    "save_dir = \"../data/tmp/\"\n",
    "filename = os.path.basename(url)\n",
    "save_path = os.path.join(save_dir, filename)\n",
    "os.makedirs(save_dir, exist_ok=True)\n",
    "\n",
    "with requests.get(url, stream=True) as r:\n",
    "    r.raise_for_status()\n",
    "    with open(save_path, \"wb\") as f:\n",
    "        for chunk in r.iter_content(chunk_size=8192):\n",
    "            if chunk:\n",
    "                f.write(chunk)\n",
    "\n",
    "print(f\"Data saved to: {save_path}\")"
   ]
  },
  {
   "cell_type": "markdown",
   "id": "93361d05",
   "metadata": {},
   "source": [
    "We require a SPICE metakernel for MESSENGER. This can be created automatically with the below code. This only needs to be run once."
   ]
  },
  {
   "cell_type": "code",
   "execution_count": 12,
   "id": "533d496b",
   "metadata": {},
   "outputs": [],
   "source": [
    "if not os.path.isdir(\"../data/autometa/\"):\n",
    "    os.system(\"git clone 'https://github.com/mjrutala/AutoMeta.git' ../data/autometa\")\n",
    "\n",
    "if not os.path.isdir(\"../SPICE/\"):\n",
    "    sys.path.insert(\n",
    "        1, str(\"../data/autometa\")\n",
    "    )\n",
    "    from autometa import make_Metakernel\n",
    "    \n",
    "    make_Metakernel.make_Metakernel(\"MESSENGER\", \"..\")"
   ]
  },
  {
   "cell_type": "markdown",
   "id": "ef2b69a3",
   "metadata": {},
   "source": [
    "We need to tell the codebase where to expect our data files:"
   ]
  },
  {
   "cell_type": "code",
   "execution_count": 11,
   "id": "abfb6db7",
   "metadata": {},
   "outputs": [],
   "source": [
    "hermpy.utils.User.DATA_DIRECTORIES[\"MAG_FULL\"] = \"../data/tmp/\"\n",
    "hermpy.utils.User.METAKERNEL = \"../SPICE/messenger/metakernel_messenger.txt\""
   ]
  }
 ],
 "metadata": {
  "kernelspec": {
   "display_name": "messenger-region-classifier",
   "language": "python",
   "name": "python3"
  },
  "language_info": {
   "codemirror_mode": {
    "name": "ipython",
    "version": 3
   },
   "file_extension": ".py",
   "mimetype": "text/x-python",
   "name": "python",
   "nbconvert_exporter": "python",
   "pygments_lexer": "ipython3",
   "version": "3.13.7"
  }
 },
 "nbformat": 4,
 "nbformat_minor": 5
}
