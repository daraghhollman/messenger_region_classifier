{
 "cells": [
  {
   "cell_type": "markdown",
   "id": "ffbb9b5f",
   "metadata": {},
   "source": [
    "Let's start by downloading a small portion of data. NASA's PDS-PPI node for MESSENGER stores full cadence data in daily files, so we will just download one of these."
   ]
  },
  {
   "cell_type": "code",
   "execution_count": 1,
   "id": "7ec1c68c",
   "metadata": {},
   "outputs": [
    {
     "name": "stdout",
     "output_type": "stream",
     "text": [
      "Data saved to: ./data/tmp/MAGMSOSCI11244_V08.TAB\n"
     ]
    }
   ],
   "source": [
    "import requests\n",
    "import os\n",
    "\n",
    "# 1st September 2011\n",
    "url = \"https://pds-ppi.igpp.ucla.edu/data/mess-mag-calibrated/data/mso/2011/244_273_SEP/MAGMSOSCI11244_V08.TAB\"\n",
    "\n",
    "save_dir = \"./data/tmp/\"\n",
    "filename = os.path.basename(url)\n",
    "save_path = os.path.join(save_dir, filename)\n",
    "os.makedirs(save_dir, exist_ok=True)\n",
    "\n",
    "with requests.get(url, stream=True) as r:\n",
    "    r.raise_for_status()\n",
    "    with open(save_path, \"wb\") as f:\n",
    "        for chunk in r.iter_content(chunk_size=8192):\n",
    "            if chunk:\n",
    "                f.write(chunk)\n",
    "\n",
    "print(f\"Data saved to: {save_path}\")"
   ]
  },
  {
   "cell_type": "markdown",
   "id": "93361d05",
   "metadata": {},
   "source": [
    "We require a SPICE metakernel for MESSENGER. This can be created automatically with the below code"
   ]
  },
  {
   "cell_type": "code",
   "execution_count": null,
   "id": "533d496b",
   "metadata": {},
   "outputs": [
    {
     "name": "stdout",
     "output_type": "stream",
     "text": [
      "Cloning mjrutala/AutoMeta to pull SPICE kernels\n"
     ]
    },
    {
     "name": "stderr",
     "output_type": "stream",
     "text": [
      "Cloning into './data/autometa'...\n"
     ]
    },
    {
     "name": "stdout",
     "output_type": "stream",
     "text": [
      "Downloading required SPICE files\n"
     ]
    },
    {
     "name": "stderr",
     "output_type": "stream",
     "text": [
      "/home/daraghhollman/Main/Work/mercury/messenger_region_classifier/.venv/bin/python3: can't open file '/home/daraghhollman/Main/Work/mercury/messenger_region_classifier/examples/src/make_messenger_metakernel.py': [Errno 2] No such file or directory\n"
     ]
    },
    {
     "data": {
      "text/plain": [
       "512"
      ]
     },
     "execution_count": 4,
     "metadata": {},
     "output_type": "execute_result"
    }
   ],
   "source": [
    "os.system(\"chmod +x ../scripts/make_messenger_metakernel\")\n",
    "os.system(\"../scripts/make_messenger_metakernel\")"
   ]
  },
  {
   "cell_type": "markdown",
   "id": "ef2b69a3",
   "metadata": {},
   "source": [
    "We need to tell the codebase where to expect our data files:"
   ]
  },
  {
   "cell_type": "code",
   "execution_count": null,
   "id": "abfb6db7",
   "metadata": {},
   "outputs": [],
   "source": [
    "import hermpy.utils\n",
    "\n",
    "hermpy.utils.User.DATA_DIRECTORIES[\"MAG_FULL\"] = \"./data/tmp/\"\n",
    "hermpy.utils.User.METAKERNEL = \"./SPICE/messenger/metakernel_messenger.txt\""
   ]
  }
 ],
 "metadata": {
  "kernelspec": {
   "display_name": "messenger-region-classifier",
   "language": "python",
   "name": "python3"
  },
  "language_info": {
   "codemirror_mode": {
    "name": "ipython",
    "version": 3
   },
   "file_extension": ".py",
   "mimetype": "text/x-python",
   "name": "python",
   "nbconvert_exporter": "python",
   "pygments_lexer": "ipython3",
   "version": "3.13.7"
  }
 },
 "nbformat": 4,
 "nbformat_minor": 5
}
